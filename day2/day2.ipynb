{
 "cells": [
  {
   "cell_type": "code",
   "execution_count": 38,
   "metadata": {},
   "outputs": [],
   "source": [
    "import torch\n",
    "import torch.nn as nn\n",
    "import torch.nn.functional as F\n",
    "from torchvision import datasets, transforms"
   ]
  },
  {
   "cell_type": "code",
   "execution_count": 39,
   "metadata": {},
   "outputs": [],
   "source": [
    "class CNN(nn.Module):\n",
    "    def __init__(self):\n",
    "        super(CNN, self).__init__()\n",
    "        self.conv1 = nn.Conv2d(in_channels=1, out_channels=32, kernel_size=3, padding=1)\n",
    "        self.conv2 = nn.Conv2d(32, 64, kernel_size=3, padding=1)\n",
    "        self.pool = nn.MaxPool2d(2, 2)\n",
    "        self.fc1 = nn.Linear(64 * 14 * 14, 128)\n",
    "        self.fc2 = nn.Linear(128, 10)\n",
    "        \n",
    "    def forward(self, x):\n",
    "        x = F.relu(self.conv1(x))\n",
    "        x = F.relu(self.conv2(x))\n",
    "        x = self.pool(x)\n",
    "        x = x.view(-1, 64 * 14 * 14)\n",
    "        x = F.relu(self.fc1(x))\n",
    "        return self.fc2(x)"
   ]
  },
  {
   "cell_type": "code",
   "execution_count": 40,
   "metadata": {},
   "outputs": [],
   "source": [
    "model = CNN()"
   ]
  },
  {
   "cell_type": "code",
   "execution_count": 41,
   "metadata": {},
   "outputs": [],
   "source": [
    "optimizer = torch.optim.Adam(model.parameters(), lr=0.001)"
   ]
  },
  {
   "cell_type": "code",
   "execution_count": 42,
   "metadata": {},
   "outputs": [],
   "source": [
    "criterion = nn.CrossEntropyLoss()"
   ]
  },
  {
   "cell_type": "code",
   "execution_count": 43,
   "metadata": {},
   "outputs": [],
   "source": [
    "transform = transforms.Compose([transforms.ToTensor(), transforms.Normalize((0.1307,), (0.3081))])"
   ]
  },
  {
   "cell_type": "code",
   "execution_count": 44,
   "metadata": {},
   "outputs": [],
   "source": [
    "train_dataset = datasets.MNIST(root=\"./data\", train=True, download=True, transform=transform)\n",
    "test_dataset = datasets.MNIST(root=\"./data\", train=False, download=True, transform=transform)"
   ]
  },
  {
   "cell_type": "code",
   "execution_count": 45,
   "metadata": {},
   "outputs": [],
   "source": [
    "from torch.utils.data import DataLoader"
   ]
  },
  {
   "cell_type": "code",
   "execution_count": 46,
   "metadata": {},
   "outputs": [
    {
     "data": {
      "text/plain": [
       "Dataset MNIST\n",
       "    Number of datapoints: 60000\n",
       "    Root location: ./data\n",
       "    Split: Train\n",
       "    StandardTransform\n",
       "Transform: Compose(\n",
       "               ToTensor()\n",
       "               Normalize(mean=(0.1307,), std=0.3081)\n",
       "           )"
      ]
     },
     "execution_count": 46,
     "metadata": {},
     "output_type": "execute_result"
    }
   ],
   "source": [
    "train_dataset"
   ]
  },
  {
   "cell_type": "code",
   "execution_count": 47,
   "metadata": {},
   "outputs": [],
   "source": [
    "train_dataloader = DataLoader(train_dataset, batch_size=64, shuffle=True)"
   ]
  },
  {
   "cell_type": "code",
   "execution_count": 48,
   "metadata": {},
   "outputs": [],
   "source": [
    "test_dataloader = DataLoader(test_dataset, batch_size=1000, shuffle=False)"
   ]
  },
  {
   "cell_type": "code",
   "execution_count": 49,
   "metadata": {},
   "outputs": [],
   "source": [
    "def train(model, loader, optimizer, criterion, epoch):\n",
    "    model.train()\n",
    "    for batch_idx, (data, target) in enumerate(loader):\n",
    "        optimizer.zero_grad()\n",
    "        output = model(data)\n",
    "        loss = criterion(output, target)\n",
    "        loss.backward()\n",
    "        optimizer.step()\n",
    "        \n",
    "        if batch_idx % 100 == 0:\n",
    "            print(f\"Train Epoche: {epoch} Loss: {loss.item():4f}\")"
   ]
  },
  {
   "cell_type": "code",
   "execution_count": null,
   "metadata": {},
   "outputs": [],
   "source": [
    "for (data, target) in train_dataloader:\n",
    "    print(data)"
   ]
  },
  {
   "cell_type": "code",
   "execution_count": null,
   "metadata": {},
   "outputs": [],
   "source": [
    "for (data, target) in train_dataloader:\n",
    "    print(target)"
   ]
  },
  {
   "cell_type": "code",
   "execution_count": 52,
   "metadata": {},
   "outputs": [
    {
     "name": "stdout",
     "output_type": "stream",
     "text": [
      "Train Epoche: 1 Loss: 2.306889\n",
      "Train Epoche: 1 Loss: 0.101201\n",
      "Train Epoche: 1 Loss: 0.079091\n",
      "Train Epoche: 1 Loss: 0.098533\n",
      "Train Epoche: 1 Loss: 0.076713\n",
      "Train Epoche: 1 Loss: 0.087325\n",
      "Train Epoche: 1 Loss: 0.026471\n",
      "Train Epoche: 1 Loss: 0.118774\n",
      "Train Epoche: 1 Loss: 0.007647\n",
      "Train Epoche: 1 Loss: 0.052503\n",
      "Train Epoche: 2 Loss: 0.002025\n",
      "Train Epoche: 2 Loss: 0.122504\n",
      "Train Epoche: 2 Loss: 0.016191\n",
      "Train Epoche: 2 Loss: 0.082330\n",
      "Train Epoche: 2 Loss: 0.012969\n",
      "Train Epoche: 2 Loss: 0.002443\n",
      "Train Epoche: 2 Loss: 0.005597\n",
      "Train Epoche: 2 Loss: 0.002235\n",
      "Train Epoche: 2 Loss: 0.131272\n",
      "Train Epoche: 2 Loss: 0.004510\n",
      "Train Epoche: 3 Loss: 0.098785\n",
      "Train Epoche: 3 Loss: 0.007479\n",
      "Train Epoche: 3 Loss: 0.002182\n",
      "Train Epoche: 3 Loss: 0.000482\n",
      "Train Epoche: 3 Loss: 0.081029\n",
      "Train Epoche: 3 Loss: 0.008193\n",
      "Train Epoche: 3 Loss: 0.001234\n",
      "Train Epoche: 3 Loss: 0.091759\n",
      "Train Epoche: 3 Loss: 0.035477\n",
      "Train Epoche: 3 Loss: 0.003601\n",
      "Train Epoche: 4 Loss: 0.001638\n",
      "Train Epoche: 4 Loss: 0.000354\n",
      "Train Epoche: 4 Loss: 0.015241\n",
      "Train Epoche: 4 Loss: 0.018094\n",
      "Train Epoche: 4 Loss: 0.000495\n",
      "Train Epoche: 4 Loss: 0.001069\n",
      "Train Epoche: 4 Loss: 0.005861\n",
      "Train Epoche: 4 Loss: 0.001261\n",
      "Train Epoche: 4 Loss: 0.095727\n",
      "Train Epoche: 4 Loss: 0.001800\n",
      "Train Epoche: 5 Loss: 0.109016\n",
      "Train Epoche: 5 Loss: 0.000430\n",
      "Train Epoche: 5 Loss: 0.000550\n",
      "Train Epoche: 5 Loss: 0.000270\n",
      "Train Epoche: 5 Loss: 0.000412\n",
      "Train Epoche: 5 Loss: 0.000147\n",
      "Train Epoche: 5 Loss: 0.015863\n",
      "Train Epoche: 5 Loss: 0.099808\n",
      "Train Epoche: 5 Loss: 0.001511\n",
      "Train Epoche: 5 Loss: 0.002377\n"
     ]
    }
   ],
   "source": [
    "for epoch in range(1, 6):\n",
    "    train(model, train_dataloader, optimizer, criterion, epoch)"
   ]
  },
  {
   "cell_type": "code",
   "execution_count": 53,
   "metadata": {},
   "outputs": [],
   "source": [
    "def test(model, loader):\n",
    "    model.eval()\n",
    "    correct = 0\n",
    "    total = 0\n",
    "    with torch.no_grad():\n",
    "        for data, target in loader:\n",
    "            output = model(data)\n",
    "            pred = output.argmax(dim=1)\n",
    "            correct += (pred == target).sum().item()\n",
    "            total += target.size(0)\n",
    "    \n",
    "    acc = 100 * correct / total\n",
    "    print(f\"Test accuracy: {acc:.2f}%\")"
   ]
  },
  {
   "cell_type": "code",
   "execution_count": 56,
   "metadata": {},
   "outputs": [
    {
     "name": "stdout",
     "output_type": "stream",
     "text": [
      "Test accuracy: 98.56%\n"
     ]
    }
   ],
   "source": [
    "test(model, test_dataloader)"
   ]
  }
 ],
 "metadata": {
  "kernelspec": {
   "display_name": "Python 3",
   "language": "python",
   "name": "python3"
  },
  "language_info": {
   "codemirror_mode": {
    "name": "ipython",
    "version": 3
   },
   "file_extension": ".py",
   "mimetype": "text/x-python",
   "name": "python",
   "nbconvert_exporter": "python",
   "pygments_lexer": "ipython3",
   "version": "3.13.2"
  }
 },
 "nbformat": 4,
 "nbformat_minor": 2
}
