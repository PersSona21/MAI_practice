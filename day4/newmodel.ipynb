{
 "cells": [
  {
   "cell_type": "code",
   "execution_count": null,
   "metadata": {},
   "outputs": [
    {
     "name": "stdout",
     "output_type": "stream",
     "text": [
      "\n",
      "image 1/1 /Users/persona21/proj/OCR_test/MAI_practice/img/421f3d7a-1119267419_03.png: 640x576 1 23, 1 24, 2 25s, 1 номер, 38.5ms\n",
      "Speed: 1.8ms preprocess, 38.5ms inference, 0.3ms postprocess per image at shape (1, 3, 640, 576)\n",
      "Готово! Отфильтрованные изображения сохранены в: runs/detect/custom_filtered\n"
     ]
    }
   ],
   "source": [
    "from ultralytics import YOLO\n",
    "import cv2\n",
    "import os\n",
    "\n",
    "# Загружаем модель\n",
    "model = YOLO('runs/detect/train/weights/best.pt')\n",
    "\n",
    "# Папка с изображениями\n",
    "img_folder = 'img'\n",
    "\n",
    "# Папка для сохранения результатов\n",
    "save_folder = 'runs/detect/custom_filtered'\n",
    "os.makedirs(save_folder, exist_ok=True)\n",
    "\n",
    "# Классы, которые нужно исключить\n",
    "excluded_classes = [7, 8]\n",
    "\n",
    "# Запуск предсказания\n",
    "results = model.predict(source=img_folder, imgsz=640, save=False, conf=0.1)\n",
    "\n",
    "for result in results:\n",
    "    img = result.orig_img.copy()  # оригинальное изображение\n",
    "    path = result.path            # путь к файлу\n",
    "\n",
    "    for box in result.boxes:\n",
    "        cls_id = int(box.cls.item())\n",
    "        conf = float(box.conf.item())\n",
    "\n",
    "        if cls_id in excluded_classes:\n",
    "            continue  # пропускаем ненужные классы\n",
    "\n",
    "        # Получаем координаты\n",
    "                # Получаем координаты\n",
    "        x1, y1, x2, y2 = map(int, box.xyxy[0])\n",
    "        label = f\"{model.names[cls_id]} {conf:.2f}\"\n",
    "\n",
    "        # Рисуем прямоугольник\n",
    "        cv2.rectangle(img, (x1, y1), (x2, y2), (0, 255, 0), 2)\n",
    "\n",
    "        # Размер и цвет текста\n",
    "        font_scale = 0.8\n",
    "        thickness = 2\n",
    "        font = cv2.FONT_HERSHEY_SIMPLEX\n",
    "\n",
    "        # Получаем размер текста\n",
    "        (w, h), _ = cv2.getTextSize(label, font, font_scale, thickness)\n",
    "        y_offset = y1 - 10 if y1 - 10 > 10 else y1 + 10\n",
    "\n",
    "        # Подложка (прямоугольник под текст)\n",
    "        cv2.rectangle(img, (x1, y_offset - h - 5), (x1 + w, y_offset + 5), (0, 255, 0), -1)\n",
    "\n",
    "        # Сам текст — белый\n",
    "        cv2.putText(img, label, (x1, y_offset), font,\n",
    "                    font_scale, (0, 0, 0), thickness=2, lineType=cv2.LINE_AA)\n",
    "\n",
    "\n",
    "    # Сохраняем результат\n",
    "    filename = os.path.basename(path)\n",
    "    save_path = os.path.join(save_folder, filename)\n",
    "    cv2.imwrite(save_path, img)\n",
    "\n",
    "print(f\"Готово! Отфильтрованные изображения сохранены в: {save_folder}\")\n"
   ]
  }
 ],
 "metadata": {
  "kernelspec": {
   "display_name": "Python 3",
   "language": "python",
   "name": "python3"
  },
  "language_info": {
   "codemirror_mode": {
    "name": "ipython",
    "version": 3
   },
   "file_extension": ".py",
   "mimetype": "text/x-python",
   "name": "python",
   "nbconvert_exporter": "python",
   "pygments_lexer": "ipython3",
   "version": "3.13.2"
  }
 },
 "nbformat": 4,
 "nbformat_minor": 2
}
